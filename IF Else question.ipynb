{
 "cells": [
  {
   "cell_type": "code",
   "execution_count": null,
   "id": "ca5a1e41",
   "metadata": {},
   "outputs": [
    {
     "name": "stdout",
     "output_type": "stream",
     "text": [
      "Total price is 5434\n",
      "Discount is 1086.8\n"
     ]
    }
   ],
   "source": [
    "item1 = int(input(\"Enter price of first item\"))\n",
    "item2 = int(input(\"Enter price of second item\"))\n",
    "item3 = int(input(\"Enter price of third item\"))\n",
    "item4 = int(input(\"Enter price of fourth item\"))\n",
    "total = item1 + item2 + item3 + item4\n",
    "discount = 0\n",
    "if total > 1000:\n",
    "    discount = total * 0.20\n",
    "elif total > 3000:\n",
    "    discount = total * 0.15\n",
    "elif total > 5000:\n",
    "    discount = total * 0.10\n",
    "elif total > 7000:\n",
    "    discount = total * 0.05\n",
    "else:\n",
    "    discount = 0\n",
    "print(\"Total price is\", total)\n",
    "print(\"Discount is\", discount) \n",
    "print(\"Final price after discount is\", total - discount)             "
   ]
  },
  {
   "cell_type": "code",
   "execution_count": null,
   "id": "7ccf1810",
   "metadata": {},
   "outputs": [],
   "source": []
  }
 ],
 "metadata": {
  "kernelspec": {
   "display_name": "Python 3",
   "language": "python",
   "name": "python3"
  },
  "language_info": {
   "codemirror_mode": {
    "name": "ipython",
    "version": 3
   },
   "file_extension": ".py",
   "mimetype": "text/x-python",
   "name": "python",
   "nbconvert_exporter": "python",
   "pygments_lexer": "ipython3",
   "version": "3.13.5"
  }
 },
 "nbformat": 4,
 "nbformat_minor": 5
}
