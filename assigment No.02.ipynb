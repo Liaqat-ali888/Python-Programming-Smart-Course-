{
 "cells": [
  {
   "cell_type": "raw",
   "id": "2e9c3a5e-dbcf-4532-b012-ee84c8133e6b",
   "metadata": {},
   "source": [
    "1) Area of a Rectangle: \n",
    "Write a Python program to calculate the area of a rectangle. Use the formula: \n",
    "A𝒓𝒆𝒂 = 𝒍𝒆𝒏𝒈𝒕𝒉 × 𝒘𝒊𝒅𝒕𝒉 \n",
    "Take length and width as inputs from the user. "
   ]
  },
  {
   "cell_type": "code",
   "execution_count": 1,
   "id": "49c72de2-eaca-4b07-8b80-ec4bf5fa988d",
   "metadata": {},
   "outputs": [
    {
     "name": "stdin",
     "output_type": "stream",
     "text": [
      "Enter the length in meter 3\n",
      "Enter the width in meter 4\n"
     ]
    },
    {
     "name": "stdout",
     "output_type": "stream",
     "text": [
      "Area of the rectangle=  12.0 m²\n"
     ]
    }
   ],
   "source": [
    "length = float(input(\"Enter the length in meter\"))\n",
    "width = float(input(\"Enter the width in meter\"))\n",
    "Area = length * width\n",
    "print(\"Area of the rectangle= \",Area ,\"m\\u00B2\")"
   ]
  },
  {
   "cell_type": "raw",
   "id": "b5070b86-9250-4b20-92ef-8e0669ba85ff",
   "metadata": {},
   "source": [
    "2) Circumference of a Circle: \n",
    "Write a Python program to calculate the circumference of a circle. Use the formula: \n",
    "C𝒊𝒓𝒄𝒖𝒎𝒇𝒆𝒓𝒆𝒏𝒄𝒆 = 𝟐𝝅𝒓 \n",
    "Take the radius r as input from the user. "
   ]
  },
  {
   "cell_type": "code",
   "execution_count": 2,
   "id": "6df57f14-7a11-49e6-947e-2a90bc4869c2",
   "metadata": {},
   "outputs": [
    {
     "name": "stdin",
     "output_type": "stream",
     "text": [
      "enter of radius in cm : 3\n"
     ]
    },
    {
     "name": "stdout",
     "output_type": "stream",
     "text": [
      "Circumference=  9.42 cm\n"
     ]
    }
   ],
   "source": [
    "radius = float(input(\"enter of radius in cm :\"))\n",
    "pi = 3.14\n",
    "circumference_of_circle = radius * pi\n",
    "print(\"Circumference= \",circumference_of_circle,\"cm\")"
   ]
  },
  {
   "cell_type": "raw",
   "id": "36f30996-71c0-4b0c-9be5-bf5fe048de7a",
   "metadata": {},
   "source": [
    "3) Simple Interest: \n",
    "Write a Python program to calculate the simple interest. Use the formula: \n",
    "S𝒊𝒎𝒑𝒍𝒆 𝑰𝒏𝒕𝒆𝒓𝒆𝒔𝒕 = 𝑷𝒓𝒊𝒏𝒄𝒊𝒑𝒂𝒍 × 𝑹𝒂𝒕𝒆 × 𝑻𝒊𝒎𝒆  \n",
    "Take Principal, Rate, and Time as inputs from the user. "
   ]
  },
  {
   "cell_type": "code",
   "execution_count": 10,
   "id": "13a5ac4e-1359-4deb-83a2-408d1f15157e",
   "metadata": {},
   "outputs": [
    {
     "name": "stdin",
     "output_type": "stream",
     "text": [
      "enter the principle:  3\n",
      "enter the rate:  4\n",
      "enter the time:  2.3\n"
     ]
    },
    {
     "name": "stdout",
     "output_type": "stream",
     "text": [
      "simple interest is = 27.599999999999998\n"
     ]
    }
   ],
   "source": [
    "principal =float(input(\"enter the principle: \"))\n",
    "rate =float(input(\"enter the rate: \"))\n",
    "time =float(input(\"enter the time: \"))\n",
    "simple_interest = principal * rate * time\n",
    "print(\"simple interest is =\", simple_interest)"
   ]
  },
  {
   "cell_type": "raw",
   "id": "f741ebdd-d8cc-4d2b-ab5f-a58b6e03b378",
   "metadata": {},
   "source": [
    "4) Speed of an Object: \n",
    "Write a Python program to calculate the speed of an object. Use the formula:  \n",
    "s𝒑𝒆𝒆𝒅     =      𝑫𝒊𝒔𝒕𝒂𝒏𝒄𝒆 /    𝑻𝒊𝒎𝒆  \n",
    "Take Distance and Time as inputs from the user. "
   ]
  },
  {
   "cell_type": "code",
   "execution_count": 11,
   "id": "2290a55d-79f0-42b2-a1a0-78fb574f8f0d",
   "metadata": {},
   "outputs": [
    {
     "name": "stdin",
     "output_type": "stream",
     "text": [
      "enter the distance in meter:  3\n",
      "enter the time in second:  2\n"
     ]
    },
    {
     "name": "stdout",
     "output_type": "stream",
     "text": [
      "speed=  1.5 m/s\n"
     ]
    }
   ],
   "source": [
    "Distance = float(input(\"enter the distance in meter: \"))\n",
    "Time = float(input(\"enter the time in second: \"))\n",
    "speed = Distance/Time\n",
    "print(\"speed= \",speed,\"m/s\")"
   ]
  },
  {
   "cell_type": "raw",
   "id": "119f2a42-497e-4174-869e-850048f2f414",
   "metadata": {},
   "source": [
    "5) BMI Calculator: \n",
    "Write a Python program to calculate the Body Mass Index (BMI). Use the formula: "
   ]
  },
  {
   "cell_type": "code",
   "execution_count": 3,
   "id": "894a63d1-3142-40f7-9831-1b99716a8582",
   "metadata": {},
   "outputs": [
    {
     "name": "stdin",
     "output_type": "stream",
     "text": [
      "enter weight in kg 3\n",
      "enter height in meter 2\n"
     ]
    },
    {
     "name": "stdout",
     "output_type": "stream",
     "text": [
      "IBM=  0.75 kg/m²\n"
     ]
    }
   ],
   "source": [
    "weight=float(input(\"enter weight in kg\"))\n",
    "height=float(input(\"enter height in meter\"))\n",
    "IBM = weight/(height**2)\n",
    "print(\"IBM= \",IBM,\"kg/m\\u00B2\")"
   ]
  },
  {
   "cell_type": "raw",
   "id": "b57f03b0-9a02-4048-b849-dc4b5405d7d0",
   "metadata": {},
   "source": [
    "6) Force Using Newton's Second Law: \n",
    "Write a Python program to calculate the force on an object. Use the formula:\n",
    "F = ma\n",
    "Take m (mass in kilograms) and a (acceleration in meters/second²) as inputs from the \n",
    "user."
   ]
  },
  {
   "cell_type": "code",
   "execution_count": 13,
   "id": "326ce207-183e-438a-b89b-a32163f40a1b",
   "metadata": {},
   "outputs": [
    {
     "name": "stdin",
     "output_type": "stream",
     "text": [
      "Enter mass in kg 5\n",
      "Enter acceleration in meter per second square 6\n"
     ]
    },
    {
     "name": "stdout",
     "output_type": "stream",
     "text": [
      "force = 30.0 kgm/s²\n"
     ]
    }
   ],
   "source": [
    "m = float(input(\"Enter mass in kg\"))\n",
    "a = float(input(\"Enter acceleration in meter per second square\"))\n",
    "force = m*a\n",
    "print(\"force =\",force,\"kgm/s\\u00B2\")"
   ]
  },
  {
   "cell_type": "markdown",
   "id": "7ffb2947-7231-45ea-86de-6f593b3a687a",
   "metadata": {},
   "source": [
    "# 7) Compound Interest:"
   ]
  },
  {
   "cell_type": "code",
   "execution_count": 15,
   "id": "4494bf3e-c821-4ee2-b0f6-3dcaad6afe80",
   "metadata": {},
   "outputs": [
    {
     "name": "stdin",
     "output_type": "stream",
     "text": [
      "principal amount 2\n",
      "annual interest rate (decimal) 4\n",
      "number of times interest is compounded per year 6\n",
      "time in years 4\n"
     ]
    },
    {
     "name": "stdout",
     "output_type": "stream",
     "text": [
      "the Total Amount is:  5.5555555555555545\n"
     ]
    }
   ],
   "source": [
    "P=  float(input(\"principal amount\"))\n",
    "r = float(input (\"annual interest rate (decimal)\"))\n",
    "n = float(input(\"number of times interest is compounded per year\"))\n",
    "t =  float(input(\"time in years\")) \n",
    "A = P*((1+r/n)**(n-t))\n",
    "print(\"the Total Amount is: \",A)"
   ]
  },
  {
   "cell_type": "raw",
   "id": "b0049f98-9692-4556-9d32-5ea5e727c062",
   "metadata": {},
   "source": [
    "8) Perimeter of a Triangle: \n",
    "Write a Python program to calculate the perimeter of a triangle. Use the formula:  \n",
    "P𝒆𝒓𝒊𝒎𝒆𝒕𝒆𝒓 = 𝒂+𝒃+𝒄 \n",
    "Take a, b, and c (lengths of the three sides) as inputs from the user. "
   ]
  },
  {
   "cell_type": "code",
   "execution_count": 16,
   "id": "6e61a5a5-22a4-4d03-bc5c-fff204ba4f3d",
   "metadata": {},
   "outputs": [
    {
     "name": "stdin",
     "output_type": "stream",
     "text": [
      "enter first side:  3\n",
      "enter second side:  2\n",
      "enter third side:  4\n"
     ]
    },
    {
     "name": "stdout",
     "output_type": "stream",
     "text": [
      "Perimeter of triangle is = 9.0 m\n"
     ]
    }
   ],
   "source": [
    "a = float(input(\"enter first side: \"))\n",
    "b = float(input(\"enter second side: \"))\n",
    "c = float(input(\"enter third side: \"))\n",
    "perimeter = a + b + c\n",
    "print(\"Perimeter of triangle is =\", perimeter,\"m\")"
   ]
  },
  {
   "cell_type": "markdown",
   "id": "7c10a707-e7ee-40f8-8fb2-4f706f86eab0",
   "metadata": {},
   "source": [
    "# 9) Volume of a Sphere: "
   ]
  },
  {
   "cell_type": "code",
   "execution_count": 21,
   "id": "1d98c28c-6c6d-4624-90f8-97a629ed705a",
   "metadata": {},
   "outputs": [
    {
     "name": "stdin",
     "output_type": "stream",
     "text": [
      "Enter the radius 2\n"
     ]
    },
    {
     "name": "stdout",
     "output_type": "stream",
     "text": [
      "volume of a sphere 33.49333333333333\n"
     ]
    }
   ],
   "source": [
    "r=\"radius\"\n",
    "r = float(input(\"Enter the radius\"))\n",
    "Volume= (4/3)*pi*(r)**3\n",
    "print(\"volume of a sphere\",Volume)"
   ]
  },
  {
   "cell_type": "markdown",
   "id": "4c258ba2-3f65-40d5-90dd-47e451b11833",
   "metadata": {},
   "source": [
    "# 10) Kinetic Energy: "
   ]
  },
  {
   "cell_type": "code",
   "execution_count": 26,
   "id": "ab917ed8-29b5-4cbf-87dc-94a7d69ac369",
   "metadata": {},
   "outputs": [
    {
     "name": "stdin",
     "output_type": "stream",
     "text": [
      "mass in kilograms 2\n",
      "velocity in meters/second 3\n"
     ]
    },
    {
     "name": "stdout",
     "output_type": "stream",
     "text": [
      "K.E =  9.0 kgm/s²\n"
     ]
    }
   ],
   "source": [
    "m = float(input(\"mass in kilograms\"))\n",
    "v = float(input(\"velocity in meters/second\"))\n",
    "KE = 1/2*(m*v**2)\n",
    "print(\"K.E = \",KE,\"kgm/s\\u00B2\")"
   ]
  },
  {
   "cell_type": "markdown",
   "id": "da89e2f1-a951-40c6-a750-b75bb8eb7c18",
   "metadata": {},
   "source": [
    "# 11) Quadratic Equation Roots"
   ]
  },
  {
   "cell_type": "code",
   "execution_count": 44,
   "id": "329ace29-181c-4214-803f-72c710ab69c3",
   "metadata": {},
   "outputs": [
    {
     "name": "stdin",
     "output_type": "stream",
     "text": [
      "enter coefficient of x square:  2\n",
      "enter coefficient of x:  8\n",
      "enter constant:  2\n"
     ]
    },
    {
     "name": "stdout",
     "output_type": "stream",
     "text": [
      "values of x = 4.0 , -8.0\n"
     ]
    }
   ],
   "source": [
    "a = float(input(\"enter coefficient of x square: \"))\n",
    "b = float(input(\"enter coefficient of x: \"))\n",
    "c = float(input(\"enter constant: \"))\n",
    "X1= (-b+(b**2 - 4*a*c)*(1/2)) / (2*a) # only valid when the disc.>=0\n",
    "X2= (-b-(b**2 - 4*a*c)*(1/2)) / (2*a) # only valid when the disc.>=0\n",
    "print(\"values of x =\",X1,\",\",X2)"
   ]
  },
  {
   "cell_type": "markdown",
   "id": "16e6956a-a86a-4a67-a757-155cadce586c",
   "metadata": {},
   "source": [
    "# 12) Temperature Conversion: "
   ]
  },
  {
   "cell_type": "code",
   "execution_count": 45,
   "id": "04a8bb48-b4b3-49d4-9b4d-afcadfa89e82",
   "metadata": {},
   "outputs": [
    {
     "name": "stdin",
     "output_type": "stream",
     "text": [
      "Enter the temperature in celsius:  3\n"
     ]
    },
    {
     "name": "stdout",
     "output_type": "stream",
     "text": [
      "Fahrenheit:  37.4\n"
     ]
    }
   ],
   "source": [
    "C = float(input(\"Enter the temperature in celsius: \"))\n",
    "F =(9/5)*C+32\n",
    "print(\"Fahrenheit: \", F)"
   ]
  },
  {
   "cell_type": "markdown",
   "id": "1264027a-160f-43f1-8d05-e814b616c8ab",
   "metadata": {},
   "source": [
    "# 13) Gravitational Force: "
   ]
  },
  {
   "cell_type": "code",
   "execution_count": 53,
   "id": "88dabfbd-80af-4299-9e29-ea6e510aea97",
   "metadata": {},
   "outputs": [
    {
     "name": "stdin",
     "output_type": "stream",
     "text": [
      "Enter mass of first object in kg:  3\n",
      "Enter mass of second object in kg:  4\n",
      "Enter distance b/w center to object:  3\n"
     ]
    },
    {
     "name": "stdout",
     "output_type": "stream",
     "text": [
      "Gravitatinal force = 13.306666666666667 N\n"
     ]
    }
   ],
   "source": [
    "m1 = float(input(\"Enter mass of first object in kg: \"))\n",
    "m2 = float(input(\"Enter mass of second object in kg: \"))\n",
    "r = float(input(\"Enter distance b/w center to object: \"))\n",
    "G=9.98\n",
    "F = (G*(m1*m2))/r**2\n",
    "print(\"Gravitatinal force =\",F,\"N\")"
   ]
  },
  {
   "cell_type": "markdown",
   "id": "3c891bf7-51e4-4fdc-b462-aba57c203ea1",
   "metadata": {},
   "source": [
    " # 14) Volume of a Cylinder: "
   ]
  },
  {
   "cell_type": "code",
   "execution_count": 55,
   "id": "2ed4f180-b777-4479-aad1-0ebbd345efc5",
   "metadata": {},
   "outputs": [
    {
     "name": "stdin",
     "output_type": "stream",
     "text": [
      "Enter radius in meter:  3\n",
      "Enter height in meter:  2\n"
     ]
    },
    {
     "name": "stdout",
     "output_type": "stream",
     "text": [
      "Volume of Cylinder =  56.52 m³\n"
     ]
    }
   ],
   "source": [
    "\n",
    "r = float(input(\"Enter radius in meter: \"))\n",
    "h = float(input(\"Enter height in meter: \"))\n",
    "Volume = pi*(r**2)*h\n",
    "print(\"Volume of Cylinder = \",Volume,\"m\\u00B3\")"
   ]
  },
  {
   "cell_type": "markdown",
   "id": "c953706f-2334-494e-bc51-94bfb80097d6",
   "metadata": {},
   "source": [
    "# 15) Pressure: "
   ]
  },
  {
   "cell_type": "code",
   "execution_count": 57,
   "id": "4d3d0d11-5c1a-4a4b-8be0-b9111530fccc",
   "metadata": {},
   "outputs": [
    {
     "name": "stdin",
     "output_type": "stream",
     "text": [
      "Enter force:  12\n",
      "Enter area:  3\n"
     ]
    },
    {
     "name": "stdout",
     "output_type": "stream",
     "text": [
      "Pressure =  4.0 Pa\n"
     ]
    }
   ],
   "source": [
    "F = float(input(\"Enter force: \"))\n",
    "A = float(input(\"Enter area: \"))\n",
    "P = F/A\n",
    "print(\"Pressure = \",P,\"Pa\")"
   ]
  },
  {
   "cell_type": "markdown",
   "id": "3baebb7a-a548-47d2-922b-b21460e2bf70",
   "metadata": {},
   "source": [
    "# 16) Electric Power: "
   ]
  },
  {
   "cell_type": "code",
   "execution_count": 58,
   "id": "e1f0ccf1-fbf8-4813-ac00-1304f72993f2",
   "metadata": {},
   "outputs": [
    {
     "name": "stdin",
     "output_type": "stream",
     "text": [
      "Enter voltage:  4\n",
      "Enter current:  5\n"
     ]
    },
    {
     "name": "stdout",
     "output_type": "stream",
     "text": [
      "Electric Power =  0.8 W\n"
     ]
    }
   ],
   "source": [
    "V = float(input(\"Enter voltage: \"))\n",
    "I = float(input(\"Enter current: \"))\n",
    "P = V/I\n",
    "print(\"Electric Power = \",P,\"W\")"
   ]
  },
  {
   "cell_type": "markdown",
   "id": "a3a1f0bd-4c66-4130-85fd-281f67d25a66",
   "metadata": {},
   "source": [
    "# 17) Perimeter of a Circle (Circumference):"
   ]
  },
  {
   "cell_type": "code",
   "execution_count": 60,
   "id": "174d3558-d111-4add-8deb-f8c0739f8669",
   "metadata": {},
   "outputs": [
    {
     "name": "stdin",
     "output_type": "stream",
     "text": [
      "Enter radius in meter:  3\n"
     ]
    },
    {
     "name": "stdout",
     "output_type": "stream",
     "text": [
      "perimeter of a circle(circumference) =  18.84\n"
     ]
    }
   ],
   "source": [
    "r = float(input(\"Enter radius in meter: \"))\n",
    "Perimeter = 2*pi*r\n",
    "print(\"perimeter of a circle(circumference) = \",Perimeter)"
   ]
  },
  {
   "cell_type": "markdown",
   "id": "9b322876-181e-413b-8629-8065dd9a9433",
   "metadata": {},
   "source": [
    "# 18) Future Value in Savings: "
   ]
  },
  {
   "cell_type": "code",
   "execution_count": 5,
   "id": "42366ae6-9997-4483-8d4b-41d7c7f53a88",
   "metadata": {},
   "outputs": [
    {
     "name": "stdin",
     "output_type": "stream",
     "text": [
      "Enter present value: PV =  2\n",
      "Enter annual interest rate (as a decimal): r =  3\n",
      "Enter time in years: t =  4\n"
     ]
    },
    {
     "name": "stdout",
     "output_type": "stream",
     "text": [
      "future value: FV =   512.0\n"
     ]
    }
   ],
   "source": [
    "PV = float(input(\"Enter present value: PV = \"))\n",
    "r = float(input(\"Enter annual interest rate (as a decimal): r = \"))\n",
    "t = float(input(\"Enter time in years: t = \"))\n",
    "FV = PV*(1+r)**t\n",
    "print(\"future value: FV =  \",FV)"
   ]
  },
  {
   "cell_type": "markdown",
   "id": "41f8493d-4ef0-4881-93a2-e6a473970897",
   "metadata": {},
   "source": [
    "# 19) Work Done by a Force: "
   ]
  },
  {
   "cell_type": "code",
   "execution_count": 12,
   "id": "da282f9b-fe66-4e0a-a12f-eb6e171a6a0f",
   "metadata": {},
   "outputs": [
    {
     "name": "stdin",
     "output_type": "stream",
     "text": [
      "Enter force =  3\n",
      "Enter distance =  2\n",
      "Enter angle =  0\n"
     ]
    },
    {
     "name": "stdout",
     "output_type": "stream",
     "text": [
      "6.0\n"
     ]
    }
   ],
   "source": [
    "f = float(input(\"Enter force = \"))\n",
    "d = float(input(\"Enter distance = \"))\n",
    "θ = float(input(\"Enter angle = \"))\n",
    "import math\n",
    "W = f*d*math.cos(θ)\n",
    "print(W)"
   ]
  },
  {
   "cell_type": "markdown",
   "id": "7cd654f3-4aa4-4abb-a2a8-18c874f75881",
   "metadata": {},
   "source": [
    " # 20) Heat Transfer: "
   ]
  },
  {
   "cell_type": "code",
   "execution_count": 22,
   "id": "9caec5c5-ae7c-43b5-bd88-4e6df28a4825",
   "metadata": {},
   "outputs": [
    {
     "name": "stdin",
     "output_type": "stream",
     "text": [
      "Enter mass =  1\n",
      "Enter change in temperature =  2\n"
     ]
    },
    {
     "name": "stdout",
     "output_type": "stream",
     "text": [
      "heat transfer =  1800.0\n"
     ]
    }
   ],
   "source": [
    "m = float(input(\"Enter mass = \"))\n",
    "ΔT = float(input(\"Enter change in temperature = \"))\n",
    "c =  900 # \"specific heat capacity of aluminum \n",
    "Q = m*c*(ΔT)\n",
    "print(\"heat transfer = \", Q)"
   ]
  },
  {
   "cell_type": "code",
   "execution_count": null,
   "id": "e8b927a5-e58a-4100-9449-a16c9b769ae1",
   "metadata": {},
   "outputs": [],
   "source": []
  }
 ],
 "metadata": {
  "kernelspec": {
   "display_name": "Python 3 (ipykernel)",
   "language": "python",
   "name": "python3"
  },
  "language_info": {
   "codemirror_mode": {
    "name": "ipython",
    "version": 3
   },
   "file_extension": ".py",
   "mimetype": "text/x-python",
   "name": "python",
   "nbconvert_exporter": "python",
   "pygments_lexer": "ipython3",
   "version": "3.13.5"
  }
 },
 "nbformat": 4,
 "nbformat_minor": 5
}
