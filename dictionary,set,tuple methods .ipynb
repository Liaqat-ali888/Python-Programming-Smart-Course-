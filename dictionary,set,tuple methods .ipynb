{
 "cells": [
  {
   "cell_type": "markdown",
   "id": "1a5b3916-1062-4fa3-8cd6-5d3d56ed87e4",
   "metadata": {},
   "source": [
    "# update"
   ]
  },
  {
   "cell_type": "code",
   "execution_count": 3,
   "id": "807a28a8-711d-47e5-a3cd-7173fddb2058",
   "metadata": {},
   "outputs": [],
   "source": [
    "num1 ={\n",
    "    23,4,66,76,43,54,88\n",
    "}"
   ]
  },
  {
   "cell_type": "code",
   "execution_count": 4,
   "id": "16d08b78-b0c5-4051-b7c9-47e02f0ee092",
   "metadata": {},
   "outputs": [],
   "source": [
    "num2 ={\n",
    "    22,6,56,76,43,\n",
    "}"
   ]
  },
  {
   "cell_type": "code",
   "execution_count": 5,
   "id": "9868abf6-91e2-4472-812f-2ee1546d80d1",
   "metadata": {},
   "outputs": [],
   "source": [
    "num1.update(num2)"
   ]
  },
  {
   "cell_type": "code",
   "execution_count": 6,
   "id": "bfed1b21-6050-4ccb-83ca-c310643e330c",
   "metadata": {},
   "outputs": [
    {
     "name": "stdout",
     "output_type": "stream",
     "text": [
      "{66, 4, 6, 43, 76, 54, 23, 88, 22, 56}\n"
     ]
    }
   ],
   "source": [
    "print(num1)"
   ]
  },
  {
   "cell_type": "code",
   "execution_count": 8,
   "id": "a19754da-6402-4995-afe2-f4b709718dd5",
   "metadata": {},
   "outputs": [],
   "source": [
    "num1.update(\"q\")"
   ]
  },
  {
   "cell_type": "code",
   "execution_count": 9,
   "id": "a323bff5-03ee-41c7-a76e-bd8114886c58",
   "metadata": {},
   "outputs": [
    {
     "name": "stdout",
     "output_type": "stream",
     "text": [
      "{66, 4, 6, 43, 76, 'q', 54, 23, 88, 22, 56}\n"
     ]
    }
   ],
   "source": [
    "print(num1)"
   ]
  },
  {
   "cell_type": "markdown",
   "id": "96e8148b-cba5-4a7c-8287-6aa9334f362f",
   "metadata": {},
   "source": [
    "# clear()"
   ]
  },
  {
   "cell_type": "code",
   "execution_count": 10,
   "id": "2e4931f9-0d0c-42a0-8986-8739b37c06db",
   "metadata": {},
   "outputs": [],
   "source": [
    "num1.clear()"
   ]
  },
  {
   "cell_type": "code",
   "execution_count": 11,
   "id": "a1a02b67-965a-45b4-bef7-e3c57b3e5314",
   "metadata": {},
   "outputs": [
    {
     "name": "stdout",
     "output_type": "stream",
     "text": [
      "set()\n"
     ]
    }
   ],
   "source": [
    "print(num1)"
   ]
  },
  {
   "cell_type": "markdown",
   "id": "b256745c-f9d1-46aa-b94b-a3ee20a7ed7c",
   "metadata": {},
   "source": [
    "# pop()"
   ]
  },
  {
   "cell_type": "code",
   "execution_count": 10,
   "id": "49ac408a-0538-42b3-895d-c2dfeb2c3efd",
   "metadata": {},
   "outputs": [],
   "source": [
    "info ={\n",
    "    \"name\" : \"liaqat\",\n",
    "     \"father name\" : \"abdul karim\",\n",
    "     \"CNIC\"        : \"72403-xxxxx-x\",\n",
    "      \"ID\"         : \"73648\"\n",
    "}"
   ]
  },
  {
   "cell_type": "code",
   "execution_count": 12,
   "id": "56d07e5f-ee3f-4d8c-821b-94da10a15682",
   "metadata": {},
   "outputs": [
    {
     "data": {
      "text/plain": [
       "'liaqat'"
      ]
     },
     "execution_count": 12,
     "metadata": {},
     "output_type": "execute_result"
    }
   ],
   "source": [
    "info.pop(\"name\")"
   ]
  },
  {
   "cell_type": "code",
   "execution_count": 14,
   "id": "641bd0f3-a770-4af1-bee3-f8c6019c122b",
   "metadata": {},
   "outputs": [
    {
     "data": {
      "text/plain": [
       "('ID', '73648')"
      ]
     },
     "execution_count": 14,
     "metadata": {},
     "output_type": "execute_result"
    }
   ],
   "source": [
    "info.popitem()"
   ]
  },
  {
   "cell_type": "code",
   "execution_count": null,
   "id": "2cd321c4-a66e-4b01-ace8-b2b021d9bb4e",
   "metadata": {},
   "outputs": [],
   "source": []
  },
  {
   "cell_type": "markdown",
   "id": "67a173a8-338a-457e-a965-9525d6b9de6d",
   "metadata": {},
   "source": [
    "# set"
   ]
  },
  {
   "cell_type": "raw",
   "id": "1103dcea-a2ee-43d4-a3d1-4f834d88ba83",
   "metadata": {},
   "source": [
    "sets are unordered collection of data items.\n",
    "=>unchangeable.\n",
    "=> not contain duplicate items\n",
    "=> at least one comma is necessary"
   ]
  },
  {
   "cell_type": "code",
   "execution_count": 15,
   "id": "f146fd37-4aab-4256-9929-b9eddafe7739",
   "metadata": {},
   "outputs": [],
   "source": [
    "s = {1,2,4,3,2,6,4,3}"
   ]
  },
  {
   "cell_type": "code",
   "execution_count": 16,
   "id": "1be5ca63-bcaf-4e81-ad34-b03edeab7c7e",
   "metadata": {},
   "outputs": [
    {
     "name": "stdout",
     "output_type": "stream",
     "text": [
      "{1, 2, 3, 4, 6}\n"
     ]
    }
   ],
   "source": [
    "print(s)"
   ]
  },
  {
   "cell_type": "code",
   "execution_count": 19,
   "id": "5b0b91b1-4ac9-477c-8136-69e9516904d8",
   "metadata": {},
   "outputs": [
    {
     "name": "stdout",
     "output_type": "stream",
     "text": [
      "<class 'set'>\n"
     ]
    }
   ],
   "source": [
    "ali ={8,}\n",
    "print(type(ali))"
   ]
  },
  {
   "cell_type": "markdown",
   "id": "2abecf09-bafc-4f74-adf2-f140d761d7f5",
   "metadata": {},
   "source": [
    "# set methods"
   ]
  },
  {
   "cell_type": "code",
   "execution_count": 75,
   "id": "fce45ef3-3763-41ca-a26c-e41bd7632b1b",
   "metadata": {},
   "outputs": [],
   "source": [
    "X = {1,2,3,4,5,6,7,8,9,10}\n",
    "Y = {3,8,7,2,4,9}"
   ]
  },
  {
   "cell_type": "code",
   "execution_count": 76,
   "id": "04eadc3c-4446-41f4-95e1-c7cfd330a0dc",
   "metadata": {},
   "outputs": [
    {
     "name": "stdout",
     "output_type": "stream",
     "text": [
      "XUY = {1, 2, 3, 4, 5, 6, 7, 8, 9, 10}\n"
     ]
    }
   ],
   "source": [
    "print(\"XUY\",\"=\",X.union(Y))"
   ]
  },
  {
   "cell_type": "code",
   "execution_count": 77,
   "id": "22785fb6-01de-4b00-bf13-7f652d552d87",
   "metadata": {},
   "outputs": [
    {
     "name": "stdout",
     "output_type": "stream",
     "text": [
      "X∩Y = {2, 3, 4, 7, 8, 9}\n"
     ]
    }
   ],
   "source": [
    "print(\"X\\u2229Y\",\"=\",X.intersection(Y))"
   ]
  },
  {
   "cell_type": "code",
   "execution_count": 78,
   "id": "ad62f971-145f-4b74-8436-e5a68aecfb0d",
   "metadata": {},
   "outputs": [
    {
     "name": "stdout",
     "output_type": "stream",
     "text": [
      "{1, 10, 5, 6}\n"
     ]
    }
   ],
   "source": [
    "print(X.difference(Y))"
   ]
  },
  {
   "cell_type": "code",
   "execution_count": 79,
   "id": "2b70f054-4eb5-4658-80ef-c76186e9896c",
   "metadata": {},
   "outputs": [
    {
     "name": "stdout",
     "output_type": "stream",
     "text": [
      "False\n"
     ]
    }
   ],
   "source": [
    "print(X.isdisjoint(Y))"
   ]
  },
  {
   "cell_type": "code",
   "execution_count": 80,
   "id": "60eaed0c-ce13-434c-ac67-82d7daef23c3",
   "metadata": {},
   "outputs": [
    {
     "name": "stdout",
     "output_type": "stream",
     "text": [
      "True\n"
     ]
    }
   ],
   "source": [
    "print(X.issuperset(Y))"
   ]
  },
  {
   "cell_type": "code",
   "execution_count": 81,
   "id": "eb91c63e-da8c-4256-901c-144e44946051",
   "metadata": {},
   "outputs": [
    {
     "name": "stdout",
     "output_type": "stream",
     "text": [
      "True\n"
     ]
    }
   ],
   "source": [
    "print(Y.issubset(X))"
   ]
  },
  {
   "cell_type": "code",
   "execution_count": 82,
   "id": "01bbb903-ce98-44ed-875f-a5c3d4c87252",
   "metadata": {},
   "outputs": [],
   "source": [
    "X.add(123)"
   ]
  },
  {
   "cell_type": "code",
   "execution_count": 83,
   "id": "b846016f-c306-470c-b9ea-d6af9767180a",
   "metadata": {},
   "outputs": [
    {
     "name": "stdout",
     "output_type": "stream",
     "text": [
      "{1, 2, 3, 4, 5, 6, 7, 8, 9, 10, 123}\n"
     ]
    }
   ],
   "source": [
    "print(X)"
   ]
  },
  {
   "cell_type": "code",
   "execution_count": 84,
   "id": "21f6fa88-39d2-471d-911d-116b0c654e46",
   "metadata": {},
   "outputs": [],
   "source": [
    "X.remove(2)"
   ]
  },
  {
   "cell_type": "code",
   "execution_count": 85,
   "id": "2ca494be-9213-4dcf-aa05-b1190332fa09",
   "metadata": {},
   "outputs": [
    {
     "name": "stdout",
     "output_type": "stream",
     "text": [
      "{1, 3, 4, 5, 6, 7, 8, 9, 10, 123}\n"
     ]
    }
   ],
   "source": [
    "print(X)"
   ]
  },
  {
   "cell_type": "code",
   "execution_count": 86,
   "id": "46074c91-00d5-4137-acff-41c74e0aa3e6",
   "metadata": {},
   "outputs": [
    {
     "data": {
      "text/plain": [
       "1"
      ]
     },
     "execution_count": 86,
     "metadata": {},
     "output_type": "execute_result"
    }
   ],
   "source": [
    "X.pop()"
   ]
  },
  {
   "cell_type": "code",
   "execution_count": 87,
   "id": "b306c70a-5e4b-467e-9b97-dc266619b721",
   "metadata": {},
   "outputs": [
    {
     "name": "stdout",
     "output_type": "stream",
     "text": [
      "{3, 4, 5, 6, 7, 8, 9, 10, 123}\n"
     ]
    }
   ],
   "source": [
    "print(X)"
   ]
  },
  {
   "cell_type": "code",
   "execution_count": 72,
   "id": "ef772f70-c988-442a-a328-c7fcf22f33ce",
   "metadata": {},
   "outputs": [],
   "source": [
    "# del X"
   ]
  },
  {
   "cell_type": "code",
   "execution_count": 73,
   "id": "e9bfa320-bfd0-4be3-a25a-97886b85bfd7",
   "metadata": {},
   "outputs": [],
   "source": [
    "# print(X)"
   ]
  },
  {
   "cell_type": "markdown",
   "id": "35b56191-2374-4c19-b83b-81f2018bd425",
   "metadata": {},
   "source": [
    "# Tuple()"
   ]
  },
  {
   "cell_type": "raw",
   "id": "da307ed5-d0dc-4956-b5e6-901d90faac65",
   "metadata": {},
   "source": [
    "=> ordered collection of data items\n",
    "=>separated by commas and rount brackets\n",
    "=> unchangeable "
   ]
  },
  {
   "cell_type": "code",
   "execution_count": 96,
   "id": "bc41f339-359d-487a-9ae1-0fe9a002d0d6",
   "metadata": {},
   "outputs": [
    {
     "name": "stdout",
     "output_type": "stream",
     "text": [
      "<class 'tuple'>\n"
     ]
    }
   ],
   "source": [
    "tu= (1,2,3,4,\"ali\",True)\n",
    "print(type(tu))"
   ]
  },
  {
   "cell_type": "code",
   "execution_count": 97,
   "id": "87115b09-204f-473a-9640-32aef6a2ac5d",
   "metadata": {},
   "outputs": [
    {
     "name": "stdout",
     "output_type": "stream",
     "text": [
      "6\n"
     ]
    }
   ],
   "source": [
    "print(len(tu))"
   ]
  },
  {
   "cell_type": "code",
   "execution_count": 98,
   "id": "5a547919-2bef-489b-90aa-6d348e18d250",
   "metadata": {},
   "outputs": [
    {
     "name": "stdout",
     "output_type": "stream",
     "text": [
      "(1, 2, 3, 4, 'ali', True)\n"
     ]
    }
   ],
   "source": [
    "print(tu)"
   ]
  },
  {
   "cell_type": "code",
   "execution_count": 103,
   "id": "a0135281-19ef-438e-95fd-b5883e0ca38d",
   "metadata": {},
   "outputs": [
    {
     "name": "stdout",
     "output_type": "stream",
     "text": [
      "1\n",
      "2\n",
      "ali\n",
      "True\n"
     ]
    }
   ],
   "source": [
    "print(tu[0])\n",
    "print(tu[1])\n",
    "print(tu[-2])\n",
    "print(tu[5])"
   ]
  },
  {
   "cell_type": "code",
   "execution_count": 111,
   "id": "dfe54d5f-27da-4aab-893d-80fbb2c3452d",
   "metadata": {},
   "outputs": [],
   "source": [
    "tup1=tu[1:3]"
   ]
  },
  {
   "cell_type": "code",
   "execution_count": 112,
   "id": "5cfa4586-e022-4950-8401-7269e1eb32db",
   "metadata": {},
   "outputs": [
    {
     "name": "stdout",
     "output_type": "stream",
     "text": [
      "(2, 3)\n"
     ]
    }
   ],
   "source": [
    "print(tup1)"
   ]
  },
  {
   "cell_type": "code",
   "execution_count": 113,
   "id": "489777a0-3626-4afc-93f2-04bb142bec1a",
   "metadata": {},
   "outputs": [
    {
     "name": "stdout",
     "output_type": "stream",
     "text": [
      "(1, 2, 3, 4, 'ali', True)\n"
     ]
    }
   ],
   "source": [
    "print(tu)"
   ]
  },
  {
   "cell_type": "markdown",
   "id": "2a40e223-3965-409e-af57-778e23bbe9e7",
   "metadata": {},
   "source": [
    "# methods Tuple"
   ]
  },
  {
   "cell_type": "raw",
   "id": "8f32bff7-be2c-43e0-b108-7f0edc909394",
   "metadata": {},
   "source": [
    "count ()"
   ]
  },
  {
   "cell_type": "code",
   "execution_count": 114,
   "id": "075742b0-6696-4ce5-8af2-7f7f3919b984",
   "metadata": {},
   "outputs": [],
   "source": [
    "X =(1,2,5,3,6,5,8,3,9,2,3)"
   ]
  },
  {
   "cell_type": "code",
   "execution_count": 116,
   "id": "b29834b4-d0eb-428c-9a74-9f069503c5ef",
   "metadata": {},
   "outputs": [
    {
     "name": "stdout",
     "output_type": "stream",
     "text": [
      "3\n"
     ]
    }
   ],
   "source": [
    "print(X.count(3))"
   ]
  },
  {
   "cell_type": "code",
   "execution_count": 118,
   "id": "83d36191-45a2-4882-b2a1-cb63b58cfe7a",
   "metadata": {},
   "outputs": [
    {
     "name": "stdout",
     "output_type": "stream",
     "text": [
      "2\n"
     ]
    }
   ],
   "source": [
    "print(X.index(5))"
   ]
  },
  {
   "cell_type": "code",
   "execution_count": 121,
   "id": "3d487dce-f389-42b9-a5e2-f6349a52d0f8",
   "metadata": {},
   "outputs": [
    {
     "name": "stdout",
     "output_type": "stream",
     "text": [
      "7\n"
     ]
    }
   ],
   "source": [
    "print(X.index(3,4,8))#tuple.index(element,start,end)"
   ]
  },
  {
   "cell_type": "code",
   "execution_count": 122,
   "id": "94b003b0-7f85-4ca4-8c6b-bd2dc866f081",
   "metadata": {},
   "outputs": [
    {
     "name": "stdout",
     "output_type": "stream",
     "text": [
      "11\n"
     ]
    }
   ],
   "source": [
    "print(len(X))"
   ]
  },
  {
   "cell_type": "code",
   "execution_count": 123,
   "id": "f1156938-23c4-44b9-b5cb-66485f265e7f",
   "metadata": {},
   "outputs": [
    {
     "name": "stdout",
     "output_type": "stream",
     "text": [
      "<class 'tuple'>\n"
     ]
    }
   ],
   "source": [
    "print(type(X))"
   ]
  },
  {
   "cell_type": "code",
   "execution_count": null,
   "id": "09ae485b-4247-4b22-929e-105ae29f75ba",
   "metadata": {},
   "outputs": [],
   "source": []
  }
 ],
 "metadata": {
  "kernelspec": {
   "display_name": "Python 3 (ipykernel)",
   "language": "python",
   "name": "python3"
  },
  "language_info": {
   "codemirror_mode": {
    "name": "ipython",
    "version": 3
   },
   "file_extension": ".py",
   "mimetype": "text/x-python",
   "name": "python",
   "nbconvert_exporter": "python",
   "pygments_lexer": "ipython3",
   "version": "3.13.5"
  }
 },
 "nbformat": 4,
 "nbformat_minor": 5
}
