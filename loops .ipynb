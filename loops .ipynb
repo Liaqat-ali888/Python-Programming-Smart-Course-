{
 "cells": [
  {
   "cell_type": "code",
   "execution_count": 1,
   "id": "9118f40d",
   "metadata": {},
   "outputs": [
    {
     "name": "stdout",
     "output_type": "stream",
     "text": [
      "l,i,a,q,a,t,a,l,i,"
     ]
    }
   ],
   "source": [
    "name = \"liaqatali\"\n",
    "for i in name:\n",
    "   \n",
    "    print(i, end=\",\")    "
   ]
  },
  {
   "cell_type": "code",
   "execution_count": 2,
   "id": "b018adaf",
   "metadata": {},
   "outputs": [
    {
     "name": "stdout",
     "output_type": "stream",
     "text": [
      "liaqat , this is my first name \n",
      "l\n",
      "i\n",
      "a\n",
      "q\n",
      "a\n",
      "t\n",
      "ali , this is my second name\n",
      "a\n",
      "l\n",
      "i\n",
      "hamza , h\n",
      "a\n",
      "m\n",
      "z\n",
      "a\n",
      "asad , a\n",
      "s\n",
      "a\n",
      "d\n"
     ]
    }
   ],
   "source": [
    "names = [\"liaqat\", \"ali\", \"hamza\",\"asad\"]\n",
    "for name in names:\n",
    "    print(name, end=\" , \")\n",
    "    if name == \"liaqat\":\n",
    "        print (\"this is my first name \")\n",
    "    elif name == \"ali\":\n",
    "        print(\"this is my second name\")\n",
    "    for i in name:\n",
    "        print(i)"
   ]
  },
  {
   "cell_type": "code",
   "execution_count": 3,
   "id": "e8c41876",
   "metadata": {},
   "outputs": [
    {
     "name": "stdout",
     "output_type": "stream",
     "text": [
      "0\n",
      "1\n",
      "2\n",
      "3\n",
      "4\n",
      "5\n",
      "6\n",
      "7\n",
      "8\n",
      "9\n",
      "10\n"
     ]
    }
   ],
   "source": [
    "for i in range(11):\n",
    "    print(i)"
   ]
  },
  {
   "cell_type": "code",
   "execution_count": 4,
   "id": "6656562e",
   "metadata": {},
   "outputs": [
    {
     "name": "stdout",
     "output_type": "stream",
     "text": [
      "1, 3, 5, 7, 9, "
     ]
    }
   ],
   "source": [
    "for i in range(1, 11,2):\n",
    "    print(i, end=\", \")"
   ]
  },
  {
   "cell_type": "code",
   "execution_count": 5,
   "id": "5733d739",
   "metadata": {},
   "outputs": [
    {
     "name": "stdout",
     "output_type": "stream",
     "text": [
      "1, 4, 7, 10, 13, "
     ]
    }
   ],
   "source": [
    "for i in range(1,15,3):\n",
    "    print(i, end=\", \")"
   ]
  },
  {
   "cell_type": "code",
   "execution_count": 8,
   "id": "3e463585",
   "metadata": {},
   "outputs": [
    {
     "name": "stdout",
     "output_type": "stream",
     "text": [
      "1\n",
      "2\n",
      "3\n",
      "4\n",
      "5\n"
     ]
    }
   ],
   "source": [
    "for k in range(5):\n",
    "    print (k+1)"
   ]
  },
  {
   "cell_type": "code",
   "execution_count": null,
   "id": "f851af16",
   "metadata": {},
   "outputs": [
    {
     "name": "stdout",
     "output_type": "stream",
     "text": [
      "1\n",
      "500001\n",
      "1000001\n",
      "1500001\n"
     ]
    }
   ],
   "source": [
    "for i in range(1,2000000,500000):\n",
    "    print(i)"
   ]
  }
 ],
 "metadata": {
  "kernelspec": {
   "display_name": "Python 3",
   "language": "python",
   "name": "python3"
  },
  "language_info": {
   "codemirror_mode": {
    "name": "ipython",
    "version": 3
   },
   "file_extension": ".py",
   "mimetype": "text/x-python",
   "name": "python",
   "nbconvert_exporter": "python",
   "pygments_lexer": "ipython3",
   "version": "3.13.5"
  }
 },
 "nbformat": 4,
 "nbformat_minor": 5
}
