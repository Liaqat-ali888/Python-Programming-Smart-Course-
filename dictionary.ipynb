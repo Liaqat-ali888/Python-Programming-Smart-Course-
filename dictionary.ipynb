{
 "cells": [
  {
   "cell_type": "markdown",
   "id": "927874e9-bd3f-485e-8ca6-731d39997ddb",
   "metadata": {},
   "source": [
    "# Dictionary "
   ]
  },
  {
   "cell_type": "raw",
   "id": "72b12200-f1b5-4e6c-a886-f8cd910bf3bd",
   "metadata": {},
   "source": [
    "conbination of key values pair"
   ]
  },
  {
   "cell_type": "code",
   "execution_count": 31,
   "id": "988b8d23-88e0-4256-814a-820ab5ca74ff",
   "metadata": {},
   "outputs": [],
   "source": [
    "info = {\n",
    "    \"name\"         : \"liaqat ali\",\n",
    "    \"father name\"  : \"abdul karim\",\n",
    "    \"nationality\"  : \"semi pakistani\",\n",
    "    \"CNIC\"         : \"71403-xxxxx-x\",\n",
    "    \"ID\"           : \"ukh8898\"  \n",
    "}"
   ]
  },
  {
   "cell_type": "code",
   "execution_count": 32,
   "id": "10709909-f173-4b4f-99c9-5aa1e8951226",
   "metadata": {},
   "outputs": [
    {
     "name": "stdout",
     "output_type": "stream",
     "text": [
      "{'name': 'liaqat ali', 'father name': 'abdul karim', 'nationality': 'semi pakistani', 'CNIC': '71403-xxxxx-x', 'ID': 'ukh8898'}\n"
     ]
    }
   ],
   "source": [
    "print(info)"
   ]
  },
  {
   "cell_type": "code",
   "execution_count": 33,
   "id": "c305ac97-1788-4aff-a6d4-c3fa6758b130",
   "metadata": {},
   "outputs": [
    {
     "name": "stdout",
     "output_type": "stream",
     "text": [
      "liaqat ali\n",
      " abdul karim\n",
      " semi pakistani\n",
      " 71403-xxxxx-x\n",
      " ukh8898\n"
     ]
    }
   ],
   "source": [
    "print(info[\"name\"],info[\"father name\"],info[\"nationality\"],info[\"CNIC\"],info[\"ID\"],sep=\"\\n \")"
   ]
  },
  {
   "cell_type": "code",
   "execution_count": 34,
   "id": "af7402a2-5827-4abc-84e3-ee2ab89f1972",
   "metadata": {},
   "outputs": [
    {
     "name": "stdout",
     "output_type": "stream",
     "text": [
      "liaqat ali\n"
     ]
    }
   ],
   "source": [
    "print(info.get(\"name\"))"
   ]
  },
  {
   "cell_type": "code",
   "execution_count": 35,
   "id": "6d54336a-7c44-476c-8fe2-b3fee1d21359",
   "metadata": {},
   "outputs": [
    {
     "name": "stdout",
     "output_type": "stream",
     "text": [
      "None\n"
     ]
    }
   ],
   "source": [
    "print(info.get(\"name1\"))"
   ]
  },
  {
   "cell_type": "code",
   "execution_count": 36,
   "id": "d64acc1a-feef-45d0-b2f4-221b4c6d789a",
   "metadata": {},
   "outputs": [
    {
     "name": "stdout",
     "output_type": "stream",
     "text": [
      "dict_keys(['name', 'father name', 'nationality', 'CNIC', 'ID'])\n"
     ]
    }
   ],
   "source": [
    "print(info.keys())# print keys only"
   ]
  },
  {
   "cell_type": "code",
   "execution_count": 39,
   "id": "a18a7a88-8691-4084-8d19-6611395cfa75",
   "metadata": {},
   "outputs": [
    {
     "name": "stdout",
     "output_type": "stream",
     "text": [
      "liaqat ali\n",
      "abdul karim\n",
      "semi pakistani\n",
      "71403-xxxxx-x\n",
      "ukh8898\n"
     ]
    }
   ],
   "source": [
    "for key in info.keys(): # keys values in lines\n",
    "    print(info[key])"
   ]
  },
  {
   "cell_type": "code",
   "execution_count": 40,
   "id": "de464758-e4a6-439b-a690-e77004525916",
   "metadata": {},
   "outputs": [
    {
     "name": "stdout",
     "output_type": "stream",
     "text": [
      "dict_values(['liaqat ali', 'abdul karim', 'semi pakistani', '71403-xxxxx-x', 'ukh8898'])\n"
     ]
    }
   ],
   "source": [
    "print(info.values())# print values only"
   ]
  },
  {
   "cell_type": "code",
   "execution_count": 49,
   "id": "9a65ffaf-335f-4404-a63f-6b1add81ed63",
   "metadata": {},
   "outputs": [
    {
     "name": "stdout",
     "output_type": "stream",
     "text": [
      "the value corresponding to the key name is : liaqat ali\n",
      "the value corresponding to the key father name is : abdul karim\n",
      "the value corresponding to the key nationality is : semi pakistani\n",
      "the value corresponding to the key CNIC is : 71403-xxxxx-x\n",
      "the value corresponding to the key ID is : ukh8898\n"
     ]
    }
   ],
   "source": [
    "for key in info.keys():\n",
    "      print(f\"the value corresponding to the key {key} is : {info[key]}\")"
   ]
  },
  {
   "cell_type": "code",
   "execution_count": 50,
   "id": "c40490bd-132d-406e-b0d2-5d8c752a30ab",
   "metadata": {},
   "outputs": [
    {
     "name": "stdout",
     "output_type": "stream",
     "text": [
      "dict_items([('name', 'liaqat ali'), ('father name', 'abdul karim'), ('nationality', 'semi pakistani'), ('CNIC', '71403-xxxxx-x'), ('ID', 'ukh8898')])\n"
     ]
    }
   ],
   "source": [
    "print(info.items())"
   ]
  },
  {
   "cell_type": "code",
   "execution_count": null,
   "id": "57520fe7-f51e-4efb-8bcf-a806a8d1a2fe",
   "metadata": {},
   "outputs": [],
   "source": []
  },
  {
   "cell_type": "code",
   "execution_count": null,
   "id": "8c27e7e9-ce3d-4bd5-ac62-6b2fefa924c4",
   "metadata": {},
   "outputs": [],
   "source": []
  },
  {
   "cell_type": "code",
   "execution_count": null,
   "id": "072d2848-1965-4e6c-91bf-66049c11b6b2",
   "metadata": {},
   "outputs": [],
   "source": []
  }
 ],
 "metadata": {
  "kernelspec": {
   "display_name": "Python 3 (ipykernel)",
   "language": "python",
   "name": "python3"
  },
  "language_info": {
   "codemirror_mode": {
    "name": "ipython",
    "version": 3
   },
   "file_extension": ".py",
   "mimetype": "text/x-python",
   "name": "python",
   "nbconvert_exporter": "python",
   "pygments_lexer": "ipython3",
   "version": "3.13.5"
  }
 },
 "nbformat": 4,
 "nbformat_minor": 5
}
